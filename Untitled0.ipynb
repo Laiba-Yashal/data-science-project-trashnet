{
  "cells": [
    {
      "cell_type": "markdown",
      "metadata": {
        "id": "view-in-github",
        "colab_type": "text"
      },
      "source": [
        "<a href=\"https://colab.research.google.com/github/Laiba-Yashal/data-science-project-trashnet/blob/main/Untitled0.ipynb\" target=\"_parent\"><img src=\"https://colab.research.google.com/assets/colab-badge.svg\" alt=\"Open In Colab\"/></a>"
      ]
    },
    {
      "cell_type": "code",
      "source": [
        "# install kaggle and download (if using kaggle)\n",
        "!pip install -q kaggle\n",
        "# then run these after you have uploaded kaggle.json to /content\n",
        "!mkdir -p ~/.kaggle\n",
        "!cp /content/kaggle.json ~/.kaggle/\n",
        "!chmod 600 ~/.kaggle/kaggle.json\n",
        "!kaggle datasets download -d feyzazkefe/trashnet -p /content\n",
        "!unzip -q /content/trashnet.zip -d /content/trashnet\n"
      ],
      "metadata": {
        "colab": {
          "base_uri": "https://localhost:8080/"
        },
        "id": "2SmZwjFF3YOc",
        "outputId": "293097f4-27da-414f-de43-b26675ac8bdb"
      },
      "execution_count": 2,
      "outputs": [
        {
          "output_type": "stream",
          "name": "stdout",
          "text": [
            "cp: cannot stat '/content/kaggle.json': No such file or directory\n",
            "chmod: cannot access '/root/.kaggle/kaggle.json': No such file or directory\n",
            "Traceback (most recent call last):\n",
            "  File \"/usr/local/bin/kaggle\", line 10, in <module>\n",
            "    sys.exit(main())\n",
            "             ^^^^^^\n",
            "  File \"/usr/local/lib/python3.12/dist-packages/kaggle/cli.py\", line 68, in main\n",
            "    out = args.func(**command_args)\n",
            "          ^^^^^^^^^^^^^^^^^^^^^^^^^\n",
            "  File \"/usr/local/lib/python3.12/dist-packages/kaggle/api/kaggle_api_extended.py\", line 1741, in dataset_download_cli\n",
            "    with self.build_kaggle_client() as kaggle:\n",
            "         ^^^^^^^^^^^^^^^^^^^^^^^^^^\n",
            "  File \"/usr/local/lib/python3.12/dist-packages/kaggle/api/kaggle_api_extended.py\", line 688, in build_kaggle_client\n",
            "    username=self.config_values['username'],\n",
            "             ~~~~~~~~~~~~~~~~~~^^^^^^^^^^^^\n",
            "KeyError: 'username'\n",
            "unzip:  cannot find or open /content/trashnet.zip, /content/trashnet.zip.zip or /content/trashnet.zip.ZIP.\n"
          ]
        }
      ]
    },
    {
      "cell_type": "code",
      "source": [
        "from google.colab import drive\n",
        "drive.mount('/content/drive')"
      ],
      "metadata": {
        "colab": {
          "base_uri": "https://localhost:8080/"
        },
        "id": "En4T5V9K5LrO",
        "outputId": "c426dd74-a476-43af-d636-ae765a909157"
      },
      "execution_count": 1,
      "outputs": [
        {
          "output_type": "stream",
          "name": "stdout",
          "text": [
            "Mounted at /content/drive\n"
          ]
        }
      ]
    },
    {
      "cell_type": "code",
      "source": [
        "# install kaggle and download (if using kaggle)\n",
        "!pip install -q kaggle\n",
        "# then run these after you have uploaded kaggle.json to /content\n",
        "!mkdir -p ~/.kaggle\n",
        "!cp /content/kaggle.json ~/.kaggle/\n",
        "!chmod 600 ~/.kaggle/kaggle.json\n",
        "!kaggle datasets download -d feyzazkefe/trashnet -p /content\n",
        "!unzip -q /content/trashnet.zip -d /content/trashnet\n"
      ],
      "metadata": {
        "colab": {
          "base_uri": "https://localhost:8080/"
        },
        "id": "JoLEAh1p6LtB",
        "outputId": "dcbc6cf4-3678-41c1-9969-38d3643fe8f2"
      },
      "execution_count": 3,
      "outputs": [
        {
          "output_type": "stream",
          "name": "stdout",
          "text": [
            "Dataset URL: https://www.kaggle.com/datasets/feyzazkefe/trashnet\n",
            "License(s): unknown\n",
            "Downloading trashnet.zip to /content\n",
            "  0% 0.00/40.8M [00:00<?, ?B/s]\n",
            "100% 40.8M/40.8M [00:00<00:00, 1.02GB/s]\n"
          ]
        }
      ]
    },
    {
      "cell_type": "code",
      "source": [
        "# display first 10 images with labels\n",
        "from pathlib import Path\n",
        "from IPython.display import display\n",
        "from PIL import Image\n",
        "import matplotlib.pyplot as plt\n",
        "\n",
        "root = Path('/content/trashnet')   # change if different\n",
        "classes = sorted([d.name for d in root.iterdir() if d.is_dir()])\n",
        "print(\"Classes:\", classes)\n",
        "\n",
        "imgs = []\n",
        "labels = []\n",
        "for c in classes:\n",
        "    p = root / c\n",
        "    for i, f in enumerate(sorted(p.iterdir())):\n",
        "        if f.is_file(): # Add this check to ensure it's a file\n",
        "            imgs.append(f)\n",
        "            labels.append(c)\n",
        "            if len(imgs) >= 10: break\n",
        "    if len(imgs) >= 10: break\n",
        "\n",
        "plt.figure(figsize=(12,6))\n",
        "for i, imgp in enumerate(imgs):\n",
        "    plt.subplot(2,5,i+1)\n",
        "    im = Image.open(imgp)\n",
        "    plt.imshow(im); plt.axis('off')\n",
        "    plt.title(labels[i])\n",
        "plt.show()"
      ],
      "metadata": {
        "colab": {
          "base_uri": "https://localhost:8080/",
          "height": 52
        },
        "id": "QJmxRNQj6lLw",
        "outputId": "6f8c9fa0-0365-4c19-bc1b-e668eccca7a8"
      },
      "execution_count": 7,
      "outputs": [
        {
          "output_type": "stream",
          "name": "stdout",
          "text": [
            "Classes: ['dataset-resized']\n"
          ]
        },
        {
          "output_type": "display_data",
          "data": {
            "text/plain": [
              "<Figure size 1200x600 with 0 Axes>"
            ]
          },
          "metadata": {}
        }
      ]
    },
    {
      "cell_type": "code",
      "source": [],
      "metadata": {
        "id": "iRGGTHJC60ub"
      },
      "execution_count": null,
      "outputs": []
    },
    {
      "cell_type": "code",
      "metadata": {
        "colab": {
          "base_uri": "https://localhost:8080/",
          "height": 369
        },
        "id": "9dc7a912",
        "outputId": "5055c8d7-8f62-46eb-9a9f-5b163a655aaf"
      },
      "source": [
        "from pathlib import Path\n",
        "import matplotlib.pyplot as plt\n",
        "\n",
        "root = Path('/content/trashnet/dataset-resized')  # Point to the dataset-resized directory\n",
        "classes = sorted([d.name for d in root.iterdir() if d.is_dir()])\n",
        "\n",
        "counts = {}\n",
        "for c in classes:\n",
        "    p = root / c\n",
        "    counts[c] = len(list(p.iterdir()))\n",
        "\n",
        "plt.figure(figsize=(10, 6))\n",
        "plt.bar(counts.keys(), counts.values())\n",
        "plt.xlabel(\"Trash Category\")\n",
        "plt.ylabel(\"Number of Images\")\n",
        "plt.title(\"Distribution of Images Across Trash Categories\")\n",
        "plt.xticks(rotation=45, ha='right')\n",
        "plt.tight_layout()\n",
        "plt.show()"
      ],
      "execution_count": 8,
      "outputs": [
        {
          "output_type": "display_data",
          "data": {
            "text/plain": [
              "<Figure size 1000x600 with 1 Axes>"
            ],
            "image/png": "[encoded data removed]"
          },
          "metadata": {}
        }
      ]
    }
  ],
  "metadata": {
    "colab": {
      "provenance": [],
      "authorship_tag": "ABX9TyM/R0hOxD5DBG0rAUIu14to",
      "include_colab_link": true
    },
    "kernelspec": {
      "display_name": "Python 3",
      "name": "python3"
    },
    "language_info": {
      "name": "python"
    }
  },
  "nbformat": 4,
  "nbformat_minor": 0
}